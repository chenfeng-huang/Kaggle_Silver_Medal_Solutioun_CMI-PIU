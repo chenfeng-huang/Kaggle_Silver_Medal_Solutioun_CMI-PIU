{
 "cells": [
  {
   "cell_type": "code",
   "execution_count": null,
   "id": "492a992d",
   "metadata": {
    "_cell_guid": "b1076dfc-b9ad-4769-8c92-a6c4dae69d19",
    "_uuid": "8f2839f25d086af736a60e9eeb907d3b93b6e0e5",
    "execution": {
     "iopub.execute_input": "2025-01-01T15:25:36.247831Z",
     "iopub.status.busy": "2025-01-01T15:25:36.247465Z",
     "iopub.status.idle": "2025-01-01T15:25:42.175421Z",
     "shell.execute_reply": "2025-01-01T15:25:42.174665Z"
    },
    "papermill": {
     "duration": 5.935686,
     "end_time": "2025-01-01T15:25:42.177081",
     "exception": false,
     "start_time": "2025-01-01T15:25:36.241395",
     "status": "completed"
    },
    "tags": []
   },
   "outputs": [],
   "source": [
    "import os\n",
    "import warnings\n",
    "from concurrent.futures import ThreadPoolExecutor\n",
    "\n",
    "import numpy as np\n",
    "import pandas as pd\n",
    "from sklearn.model_selection import StratifiedKFold\n",
    "from sklearn.impute import SimpleImputer, KNNImputer\n",
    "from sklearn.pipeline import Pipeline\n",
    "\n",
    "from sklearn.base import clone\n",
    "from sklearn.metrics import cohen_kappa_score\n",
    "from lightgbm import LGBMRegressor\n",
    "from xgboost import XGBRegressor\n",
    "from catboost import CatBoostRegressor\n",
    "from sklearn.ensemble import VotingRegressor, RandomForestRegressor, GradientBoostingRegressor\n",
    "\n",
    "from scipy.optimize import minimize\n",
    "\n",
    "\n",
    "from tqdm import tqdm\n",
    "from IPython.display import clear_output\n",
    "\n",
    "warnings.filterwarnings('ignore')  \n",
    "pd.options.display.max_columns = None  \n",
    "\n"
   ]
  },
  {
   "cell_type": "markdown",
   "id": "abb90b3b",
   "metadata": {
    "papermill": {
     "duration": 0.003826,
     "end_time": "2025-01-01T15:25:42.185401",
     "exception": false,
     "start_time": "2025-01-01T15:25:42.181575",
     "status": "completed"
    },
    "tags": []
   },
   "source": [
    "## Method 1"
   ]
  },
  {
   "cell_type": "code",
   "execution_count": 2,
   "id": "232dca9d",
   "metadata": {
    "execution": {
     "iopub.execute_input": "2025-01-01T15:25:42.194061Z",
     "iopub.status.busy": "2025-01-01T15:25:42.193611Z",
     "iopub.status.idle": "2025-01-01T15:25:42.264763Z",
     "shell.execute_reply": "2025-01-01T15:25:42.263859Z"
    },
    "papermill": {
     "duration": 0.077324,
     "end_time": "2025-01-01T15:25:42.266462",
     "exception": false,
     "start_time": "2025-01-01T15:25:42.189138",
     "status": "completed"
    },
    "tags": []
   },
   "outputs": [],
   "source": [
    "train = pd.read_csv('dataset/train.csv')  \n",
    "test = pd.read_csv('dataset/test.csv') \n",
    "sample = pd.read_csv('dataset/sample_submission.csv')  \n",
    "def process_file(filename, dirname):\n",
    "    df = pd.read_parquet(os.path.join(dirname, filename, 'part-0.parquet'))  \n",
    "    df.drop('step', axis=1, inplace=True)  \n",
    "    return df.describe().values.reshape(-1), filename.split('=')[1] \n",
    "def load_time_series(dirname) -> pd.DataFrame:\n",
    "    ids = os.listdir(dirname) \n",
    "\n",
    "    with ThreadPoolExecutor() as executor:\n",
    "        results = list(tqdm(executor.map(lambda fname: process_file(fname, dirname), ids), total=len(ids)))  \n",
    "\n",
    "    stats, indexes = zip(*results)  \n",
    "\n",
    "    df = pd.DataFrame(stats, columns=[f\"stat_{i}\" for i in range(len(stats[0]))])  \n",
    "    df['id'] = indexes  \n",
    "    return df"
   ]
  },
  {
   "cell_type": "code",
   "execution_count": 3,
   "id": "49aeba17",
   "metadata": {
    "execution": {
     "iopub.execute_input": "2025-01-01T15:25:42.275593Z",
     "iopub.status.busy": "2025-01-01T15:25:42.275346Z",
     "iopub.status.idle": "2025-01-01T15:26:51.501872Z",
     "shell.execute_reply": "2025-01-01T15:26:51.500865Z"
    },
    "papermill": {
     "duration": 69.232586,
     "end_time": "2025-01-01T15:26:51.503352",
     "exception": false,
     "start_time": "2025-01-01T15:25:42.270766",
     "status": "completed"
    },
    "tags": []
   },
   "outputs": [
    {
     "name": "stderr",
     "output_type": "stream",
     "text": [
      "100%|██████████| 111/111 [00:02<00:00, 54.32it/s]\n",
      "100%|██████████| 2/2 [00:00<00:00, 22.82it/s]\n"
     ]
    }
   ],
   "source": [
    "train_ts = load_time_series(\"dataset/series_train.parquet\")  \n",
    "test_ts = load_time_series(\"dataset/series_test.parquet\") \n",
    "\n",
    "time_series_cols = train_ts.columns.tolist()\n",
    "time_series_cols.remove(\"id\")  \n",
    "\n",
    "train = pd.merge(train, train_ts, how=\"left\", on='id')  \n",
    "test = pd.merge(test, test_ts, how=\"left\", on='id')  \n",
    "\n",
    "train = train.drop('id', axis=1) \n",
    "test = test.drop('id', axis=1)   "
   ]
  },
  {
   "cell_type": "code",
   "execution_count": 4,
   "id": "100a40dc",
   "metadata": {
    "execution": {
     "iopub.execute_input": "2025-01-01T15:26:51.540481Z",
     "iopub.status.busy": "2025-01-01T15:26:51.540155Z",
     "iopub.status.idle": "2025-01-01T15:26:51.567867Z",
     "shell.execute_reply": "2025-01-01T15:26:51.566962Z"
    },
    "papermill": {
     "duration": 0.047922,
     "end_time": "2025-01-01T15:26:51.569613",
     "exception": false,
     "start_time": "2025-01-01T15:26:51.521691",
     "status": "completed"
    },
    "tags": []
   },
   "outputs": [],
   "source": [
    "# Select Relevant Features and Handle Missing Values\n",
    "featuresCols = ['Basic_Demos-Enroll_Season', 'Basic_Demos-Age', 'Basic_Demos-Sex',\n",
    "                'CGAS-Season', 'CGAS-CGAS_Score', 'Physical-Season', 'Physical-BMI',\n",
    "                'Physical-Height', 'Physical-Weight', 'Physical-Waist_Circumference',\n",
    "                'Physical-Diastolic_BP', 'Physical-HeartRate', 'Physical-Systolic_BP',\n",
    "                'Fitness_Endurance-Season', 'Fitness_Endurance-Max_Stage',\n",
    "                'Fitness_Endurance-Time_Mins', 'Fitness_Endurance-Time_Sec',\n",
    "                'FGC-Season', 'FGC-FGC_CU', 'FGC-FGC_CU_Zone', 'FGC-FGC_GSND',\n",
    "                'FGC-FGC_GSND_Zone', 'FGC-FGC_GSD', 'FGC-FGC_GSD_Zone', 'FGC-FGC_PU',\n",
    "                'FGC-FGC_PU_Zone', 'FGC-FGC_SRL', 'FGC-FGC_SRL_Zone', 'FGC-FGC_SRR',\n",
    "                'FGC-FGC_SRR_Zone', 'FGC-FGC_TL', 'FGC-FGC_TL_Zone', 'BIA-Season',\n",
    "                'BIA-BIA_Activity_Level_num', 'BIA-BIA_BMC', 'BIA-BIA_BMI',\n",
    "                'BIA-BIA_BMR', 'BIA-BIA_DEE', 'BIA-BIA_ECW', 'BIA-BIA_FFM',\n",
    "                'BIA-BIA_FFMI', 'BIA-BIA_FMI', 'BIA-BIA_Fat', 'BIA-BIA_Frame_num',\n",
    "                'BIA-BIA_ICW', 'BIA-BIA_LDM', 'BIA-BIA_LST', 'BIA-BIA_SMM',\n",
    "                'BIA-BIA_TBW', 'PAQ_A-Season', 'PAQ_A-PAQ_A_Total', 'PAQ_C-Season',\n",
    "                'PAQ_C-PAQ_C_Total', 'SDS-Season', 'SDS-SDS_Total_Raw',\n",
    "                'SDS-SDS_Total_T', 'PreInt_EduHx-Season',\n",
    "                'PreInt_EduHx-computerinternet_hoursday', 'sii']\n",
    "\n",
    "\n",
    "featuresCols += time_series_cols \n",
    "\n",
    "train = train[featuresCols] \n",
    "train = train.dropna(subset='sii')  \n",
    "\n",
    "\n",
    "cat_c = ['Basic_Demos-Enroll_Season', 'CGAS-Season', 'Physical-Season', \n",
    "         'Fitness_Endurance-Season', 'FGC-Season', 'BIA-Season', \n",
    "         'PAQ_A-Season', 'PAQ_C-Season', 'SDS-Season', 'PreInt_EduHx-Season'] \n",
    "\n",
    "def update(df):\n",
    "    global cat_c\n",
    "    for c in cat_c: \n",
    "        df[c] = df[c].fillna('Missing')  \n",
    "        df[c] = df[c].astype('category') \n",
    "    return df\n",
    "        \n",
    "train = update(train)  \n",
    "test = update(test)  "
   ]
  },
  {
   "cell_type": "markdown",
   "id": "3373ab21",
   "metadata": {
    "papermill": {
     "duration": 0.017233,
     "end_time": "2025-01-01T15:26:51.604962",
     "exception": false,
     "start_time": "2025-01-01T15:26:51.587729",
     "status": "completed"
    },
    "tags": []
   },
   "source": [
    "### Feature Extraction "
   ]
  },
  {
   "cell_type": "code",
   "execution_count": 5,
   "id": "9ef1228e",
   "metadata": {
    "execution": {
     "iopub.execute_input": "2025-01-01T15:26:51.640809Z",
     "iopub.status.busy": "2025-01-01T15:26:51.640510Z",
     "iopub.status.idle": "2025-01-01T15:26:51.673254Z",
     "shell.execute_reply": "2025-01-01T15:26:51.672562Z"
    },
    "papermill": {
     "duration": 0.052186,
     "end_time": "2025-01-01T15:26:51.674572",
     "exception": false,
     "start_time": "2025-01-01T15:26:51.622386",
     "status": "completed"
    },
    "tags": []
   },
   "outputs": [],
   "source": [
    "def create_mapping(column, dataset):\n",
    "    unique_values = dataset[column].unique() \n",
    "    # to {feat0: 0, feat1: 1, feat2: 2, ...}\n",
    "    return {value: idx for idx, value in enumerate(unique_values)}  \n",
    "\n",
    "\n",
    "for col in cat_c:\n",
    "    mapping = create_mapping(col, train)  \n",
    "    mappingTe = create_mapping(col, test) \n",
    "    \n",
    "    train[col] = train[col].replace(mapping).astype(int) \n",
    "    test[col] = test[col].replace(mappingTe).astype(int)  "
   ]
  },
  {
   "cell_type": "markdown",
   "id": "0dafe0b5",
   "metadata": {
    "papermill": {
     "duration": 0.017297,
     "end_time": "2025-01-01T15:26:51.709290",
     "exception": false,
     "start_time": "2025-01-01T15:26:51.691993",
     "status": "completed"
    },
    "tags": []
   },
   "source": [
    "### Training model"
   ]
  },
  {
   "cell_type": "code",
   "execution_count": 6,
   "id": "995fbf40",
   "metadata": {
    "execution": {
     "iopub.execute_input": "2025-01-01T15:26:51.745352Z",
     "iopub.status.busy": "2025-01-01T15:26:51.744956Z",
     "iopub.status.idle": "2025-01-01T15:26:51.749853Z",
     "shell.execute_reply": "2025-01-01T15:26:51.748964Z"
    },
    "papermill": {
     "duration": 0.024415,
     "end_time": "2025-01-01T15:26:51.751107",
     "exception": false,
     "start_time": "2025-01-01T15:26:51.726692",
     "status": "completed"
    },
    "tags": []
   },
   "outputs": [],
   "source": [
    "def quadratic_weighted_kappa(y_true, y_pred):\n",
    "    return cohen_kappa_score(y_true, y_pred, weights='quadratic') \n",
    "\n",
    "def threshold_Rounder(oof_non_rounded, thresholds):\n",
    "    return np.where(oof_non_rounded < thresholds[0], 0,\n",
    "                    np.where(oof_non_rounded < thresholds[1], 1, \n",
    "                             np.where(oof_non_rounded < thresholds[2], 2, 3))) \n",
    "\n",
    "def evaluate_predictions(thresholds, y_true, oof_non_rounded):\n",
    "    rounded_p = threshold_Rounder(oof_non_rounded, thresholds)\n",
    "    return -quadratic_weighted_kappa(y_true, rounded_p)"
   ]
  },
  {
   "cell_type": "code",
   "execution_count": 7,
   "id": "73cdb3e9",
   "metadata": {
    "execution": {
     "iopub.execute_input": "2025-01-01T15:26:51.786688Z",
     "iopub.status.busy": "2025-01-01T15:26:51.786250Z",
     "iopub.status.idle": "2025-01-01T15:26:51.789479Z",
     "shell.execute_reply": "2025-01-01T15:26:51.788687Z"
    },
    "papermill": {
     "duration": 0.022369,
     "end_time": "2025-01-01T15:26:51.790748",
     "exception": false,
     "start_time": "2025-01-01T15:26:51.768379",
     "status": "completed"
    },
    "tags": []
   },
   "outputs": [],
   "source": [
    "SEED = 42\n",
    "n_splits = 5"
   ]
  },
  {
   "cell_type": "code",
   "execution_count": 8,
   "id": "2fa26bbb",
   "metadata": {
    "execution": {
     "iopub.execute_input": "2025-01-01T15:26:51.825995Z",
     "iopub.status.busy": "2025-01-01T15:26:51.825783Z",
     "iopub.status.idle": "2025-01-01T15:26:51.833161Z",
     "shell.execute_reply": "2025-01-01T15:26:51.832516Z"
    },
    "papermill": {
     "duration": 0.026285,
     "end_time": "2025-01-01T15:26:51.834277",
     "exception": false,
     "start_time": "2025-01-01T15:26:51.807992",
     "status": "completed"
    },
    "tags": []
   },
   "outputs": [],
   "source": [
    "def TrainML(model_class, test_data):\n",
    "    X = train.drop(['sii'], axis=1)  \n",
    "    y = train['sii']  \n",
    "\n",
    "    SKF = StratifiedKFold(n_splits=n_splits, shuffle=True, random_state=SEED)  \n",
    "    \n",
    "    train_S = []\n",
    "    test_S = []\n",
    "    \n",
    "    oof_non_rounded = np.zeros(len(y), dtype=float)  \n",
    "    oof_rounded = np.zeros(len(y), dtype=int)  \n",
    "    test_preds = np.zeros((len(test_data), n_splits)) \n",
    "\n",
    "    for fold, (train_idx, test_idx) in enumerate(tqdm(SKF.split(X, y), desc=\"Training Folds\", total=n_splits)):\n",
    "        X_train, X_val = X.iloc[train_idx], X.iloc[test_idx]  \n",
    "        y_train, y_val = y.iloc[train_idx], y.iloc[test_idx]  \n",
    "        model = clone(model_class)  \n",
    "        model.fit(X_train, y_train)\n",
    "\n",
    "        y_train_pred = model.predict(X_train)  \n",
    "        y_val_pred = model.predict(X_val)  \n",
    "\n",
    "        oof_non_rounded[test_idx] = y_val_pred  \n",
    "        y_val_pred_rounded = y_val_pred.round(0).astype(int) \n",
    "        oof_rounded[test_idx] = y_val_pred_rounded  \n",
    "\n",
    "        train_kappa = quadratic_weighted_kappa(y_train, y_train_pred.round(0).astype(int))  \n",
    "        val_kappa = quadratic_weighted_kappa(y_val, y_val_pred_rounded)  \n",
    "\n",
    "        train_S.append(train_kappa) \n",
    "        test_S.append(val_kappa)  \n",
    "        \n",
    "        test_preds[:, fold] = model.predict(test_data)  \n",
    "        \n",
    "        clear_output(wait=True)  \n",
    "\n",
    "    \n",
    "    KappaOPtimizer = minimize(evaluate_predictions,\n",
    "                              x0=[0.5, 1.5, 2.5], args=(y, oof_non_rounded), \n",
    "                              method='Nelder-Mead')\n",
    "    assert KappaOPtimizer.success, \"Optimization did not converge.\" \n",
    "    \n",
    "    oof_tuned = threshold_Rounder(oof_non_rounded, KappaOPtimizer.x)  \n",
    "    tKappa = quadratic_weighted_kappa(y, oof_tuned)  \n",
    "\n",
    "    tpm = test_preds.mean(axis=1)  \n",
    "    tpTuned = threshold_Rounder(tpm, KappaOPtimizer.x)  \n",
    "    \n",
    "    submission = pd.DataFrame({\n",
    "        'id': sample['id'],\n",
    "        'sii': tpTuned\n",
    "    }) \n",
    "    return submission"
   ]
  },
  {
   "cell_type": "code",
   "execution_count": 9,
   "id": "7f9f6e8c",
   "metadata": {
    "execution": {
     "iopub.execute_input": "2025-01-01T15:26:51.869751Z",
     "iopub.status.busy": "2025-01-01T15:26:51.869538Z",
     "iopub.status.idle": "2025-01-01T15:27:50.771711Z",
     "shell.execute_reply": "2025-01-01T15:27:50.770893Z"
    },
    "papermill": {
     "duration": 58.921369,
     "end_time": "2025-01-01T15:27:50.773131",
     "exception": false,
     "start_time": "2025-01-01T15:26:51.851762",
     "status": "completed"
    },
    "tags": []
   },
   "outputs": [
    {
     "name": "stderr",
     "output_type": "stream",
     "text": [
      "Training Folds: 100%|██████████| 5/5 [00:27<00:00,  5.49s/it]\n"
     ]
    },
    {
     "data": {
      "text/html": [
       "<div>\n",
       "<style scoped>\n",
       "    .dataframe tbody tr th:only-of-type {\n",
       "        vertical-align: middle;\n",
       "    }\n",
       "\n",
       "    .dataframe tbody tr th {\n",
       "        vertical-align: top;\n",
       "    }\n",
       "\n",
       "    .dataframe thead th {\n",
       "        text-align: right;\n",
       "    }\n",
       "</style>\n",
       "<table border=\"1\" class=\"dataframe\">\n",
       "  <thead>\n",
       "    <tr style=\"text-align: right;\">\n",
       "      <th></th>\n",
       "      <th>id</th>\n",
       "      <th>sii</th>\n",
       "    </tr>\n",
       "  </thead>\n",
       "  <tbody>\n",
       "    <tr>\n",
       "      <th>0</th>\n",
       "      <td>00008ff9</td>\n",
       "      <td>2</td>\n",
       "    </tr>\n",
       "    <tr>\n",
       "      <th>1</th>\n",
       "      <td>000fd460</td>\n",
       "      <td>0</td>\n",
       "    </tr>\n",
       "    <tr>\n",
       "      <th>2</th>\n",
       "      <td>00105258</td>\n",
       "      <td>0</td>\n",
       "    </tr>\n",
       "    <tr>\n",
       "      <th>3</th>\n",
       "      <td>00115b9f</td>\n",
       "      <td>1</td>\n",
       "    </tr>\n",
       "    <tr>\n",
       "      <th>4</th>\n",
       "      <td>0016bb22</td>\n",
       "      <td>1</td>\n",
       "    </tr>\n",
       "    <tr>\n",
       "      <th>5</th>\n",
       "      <td>001f3379</td>\n",
       "      <td>1</td>\n",
       "    </tr>\n",
       "    <tr>\n",
       "      <th>6</th>\n",
       "      <td>0038ba98</td>\n",
       "      <td>0</td>\n",
       "    </tr>\n",
       "    <tr>\n",
       "      <th>7</th>\n",
       "      <td>0068a485</td>\n",
       "      <td>0</td>\n",
       "    </tr>\n",
       "    <tr>\n",
       "      <th>8</th>\n",
       "      <td>0069fbed</td>\n",
       "      <td>1</td>\n",
       "    </tr>\n",
       "    <tr>\n",
       "      <th>9</th>\n",
       "      <td>0083e397</td>\n",
       "      <td>1</td>\n",
       "    </tr>\n",
       "    <tr>\n",
       "      <th>10</th>\n",
       "      <td>0087dd65</td>\n",
       "      <td>0</td>\n",
       "    </tr>\n",
       "    <tr>\n",
       "      <th>11</th>\n",
       "      <td>00abe655</td>\n",
       "      <td>0</td>\n",
       "    </tr>\n",
       "    <tr>\n",
       "      <th>12</th>\n",
       "      <td>00ae59c9</td>\n",
       "      <td>1</td>\n",
       "    </tr>\n",
       "    <tr>\n",
       "      <th>13</th>\n",
       "      <td>00af6387</td>\n",
       "      <td>1</td>\n",
       "    </tr>\n",
       "    <tr>\n",
       "      <th>14</th>\n",
       "      <td>00bd4359</td>\n",
       "      <td>1</td>\n",
       "    </tr>\n",
       "    <tr>\n",
       "      <th>15</th>\n",
       "      <td>00c0cd71</td>\n",
       "      <td>2</td>\n",
       "    </tr>\n",
       "    <tr>\n",
       "      <th>16</th>\n",
       "      <td>00d56d4b</td>\n",
       "      <td>0</td>\n",
       "    </tr>\n",
       "    <tr>\n",
       "      <th>17</th>\n",
       "      <td>00d9913d</td>\n",
       "      <td>0</td>\n",
       "    </tr>\n",
       "    <tr>\n",
       "      <th>18</th>\n",
       "      <td>00e6167c</td>\n",
       "      <td>0</td>\n",
       "    </tr>\n",
       "    <tr>\n",
       "      <th>19</th>\n",
       "      <td>00ebc35d</td>\n",
       "      <td>1</td>\n",
       "    </tr>\n",
       "  </tbody>\n",
       "</table>\n",
       "</div>"
      ],
      "text/plain": [
       "          id  sii\n",
       "0   00008ff9    2\n",
       "1   000fd460    0\n",
       "2   00105258    0\n",
       "3   00115b9f    1\n",
       "4   0016bb22    1\n",
       "5   001f3379    1\n",
       "6   0038ba98    0\n",
       "7   0068a485    0\n",
       "8   0069fbed    1\n",
       "9   0083e397    1\n",
       "10  0087dd65    0\n",
       "11  00abe655    0\n",
       "12  00ae59c9    1\n",
       "13  00af6387    1\n",
       "14  00bd4359    1\n",
       "15  00c0cd71    2\n",
       "16  00d56d4b    0\n",
       "17  00d9913d    0\n",
       "18  00e6167c    0\n",
       "19  00ebc35d    1"
      ]
     },
     "execution_count": 9,
     "metadata": {},
     "output_type": "execute_result"
    }
   ],
   "source": [
    "# LightGBM\n",
    "Params = {\n",
    "    'learning_rate': 0.046, \n",
    "    'max_depth': 12, \n",
    "    'num_leaves': 478, \n",
    "    'min_data_in_leaf': 13, \n",
    "    'feature_fraction': 0.893, \n",
    "    'bagging_fraction': 0.784, \n",
    "    'bagging_freq': 4, \n",
    "    'lambda_l1': 10,\n",
    "    'lambda_l2': 0.01, \n",
    "}\n",
    "\n",
    "XGB_Params = {\n",
    "    'learning_rate': 0.05, \n",
    "    'max_depth': 6, \n",
    "    'n_estimators': 200, \n",
    "    'subsample': 0.8, \n",
    "    'colsample_bytree': 0.8, \n",
    "    'reg_alpha': 1, \n",
    "    'reg_lambda': 5, \n",
    "    'random_state': SEED, \n",
    "}\n",
    "\n",
    "CatBoost_Params = {\n",
    "    'learning_rate': 0.05, \n",
    "    'depth': 6, \n",
    "    'iterations': 200, \n",
    "    'random_seed': SEED, \n",
    "    'cat_features': cat_c, \n",
    "    'verbose': 0, \n",
    "    'l2_leaf_reg': 10, \n",
    "}\n",
    "\n",
    "\n",
    "from collections import Counter\n",
    "\n",
    "class_counts = Counter(train['sii'])  \n",
    "total_samples = len(train)  \n",
    "# w = total_sample / class_sample\n",
    "class_weights = {cls: total_samples / count for cls, count in class_counts.items()} \n",
    "\n",
    "\n",
    "Params_with_weights = {\n",
    "    **Params,\n",
    "    'class_weight': class_weights\n",
    "}\n",
    "\n",
    "\n",
    "Light = LGBMRegressor(**Params_with_weights, random_state=SEED, verbose=-1, n_estimators=300)\n",
    "XGB_Model = XGBRegressor(**XGB_Params) \n",
    "CatBoost_Model = CatBoostRegressor(**CatBoost_Params)  \n",
    "\n",
    "voting_model = VotingRegressor(estimators=[\n",
    "    ('lightgbm', Light),\n",
    "    ('xgboost', XGB_Model),\n",
    "    ('catboost', CatBoost_Model)\n",
    "])\n",
    "\n",
    "# Train the ensemble model\n",
    "Submission1 = TrainML(voting_model, test) \n",
    "\n",
    "Submission1"
   ]
  },
  {
   "cell_type": "markdown",
   "id": "76614c97",
   "metadata": {
    "papermill": {
     "duration": 0.017445,
     "end_time": "2025-01-01T15:27:50.809561",
     "exception": false,
     "start_time": "2025-01-01T15:27:50.792116",
     "status": "completed"
    },
    "tags": []
   },
   "source": [
    "## Method 2"
   ]
  },
  {
   "cell_type": "code",
   "execution_count": 10,
   "id": "008ee316",
   "metadata": {
    "execution": {
     "iopub.execute_input": "2025-01-01T15:27:50.846386Z",
     "iopub.status.busy": "2025-01-01T15:27:50.846013Z",
     "iopub.status.idle": "2025-01-01T15:27:50.885071Z",
     "shell.execute_reply": "2025-01-01T15:27:50.884286Z"
    },
    "papermill": {
     "duration": 0.059238,
     "end_time": "2025-01-01T15:27:50.886643",
     "exception": false,
     "start_time": "2025-01-01T15:27:50.827405",
     "status": "completed"
    },
    "tags": []
   },
   "outputs": [],
   "source": [
    "# Load data\n",
    "train = pd.read_csv('dataset/train.csv') \n",
    "test = pd.read_csv('dataset/test.csv') \n",
    "sample = pd.read_csv('dataset/sample_submission.csv') "
   ]
  },
  {
   "cell_type": "code",
   "execution_count": 11,
   "id": "3af3d073",
   "metadata": {
    "execution": {
     "iopub.execute_input": "2025-01-01T15:27:50.923999Z",
     "iopub.status.busy": "2025-01-01T15:27:50.923707Z",
     "iopub.status.idle": "2025-01-01T15:28:59.977058Z",
     "shell.execute_reply": "2025-01-01T15:28:59.976147Z"
    },
    "papermill": {
     "duration": 69.073418,
     "end_time": "2025-01-01T15:28:59.978281",
     "exception": false,
     "start_time": "2025-01-01T15:27:50.904863",
     "status": "completed"
    },
    "tags": []
   },
   "outputs": [
    {
     "name": "stderr",
     "output_type": "stream",
     "text": [
      "100%|██████████| 111/111 [00:02<00:00, 53.38it/s]\n",
      "100%|██████████| 2/2 [00:00<00:00, 20.19it/s]\n"
     ]
    }
   ],
   "source": [
    "# Merge and Drop Columns\n",
    "train_ts = load_time_series(\"dataset/series_train.parquet\") \n",
    "test_ts = load_time_series(\"dataset/series_test.parquet\")  \n",
    "\n",
    "time_series_cols = train_ts.columns.tolist()\n",
    "time_series_cols.remove(\"id\")  \n",
    "\n",
    "train = pd.merge(train, train_ts, how=\"left\", on='id')  \n",
    "test = pd.merge(test, test_ts, how=\"left\", on='id')  \n",
    "train = train.drop('id', axis=1)  \n",
    "test = test.drop('id', axis=1)  "
   ]
  },
  {
   "cell_type": "code",
   "execution_count": 12,
   "id": "19390bef",
   "metadata": {
    "execution": {
     "iopub.execute_input": "2025-01-01T15:29:00.045938Z",
     "iopub.status.busy": "2025-01-01T15:29:00.045693Z",
     "iopub.status.idle": "2025-01-01T15:29:14.637956Z",
     "shell.execute_reply": "2025-01-01T15:29:14.637202Z"
    },
    "papermill": {
     "duration": 14.62708,
     "end_time": "2025-01-01T15:29:14.639577",
     "exception": false,
     "start_time": "2025-01-01T15:29:00.012497",
     "status": "completed"
    },
    "tags": []
   },
   "outputs": [],
   "source": [
    "imputer = KNNImputer(n_neighbors=5) \n",
    "\n",
    "numeric_cols = train.select_dtypes(include=['int32', 'int64', 'float64', 'int64']).columns \n",
    "imputed_data = imputer.fit_transform(train[numeric_cols])  \n",
    "train_imputed = pd.DataFrame(imputed_data, columns=numeric_cols)  \n",
    "train_imputed['sii'] = train_imputed['sii'].round().astype(int)  \n",
    "for col in train.columns:\n",
    "    if col not in numeric_cols:\n",
    "        train_imputed[col] = train[col]  \n",
    "        \n",
    "train = train_imputed  "
   ]
  },
  {
   "cell_type": "code",
   "execution_count": 13,
   "id": "301ecede",
   "metadata": {
    "execution": {
     "iopub.execute_input": "2025-01-01T15:29:14.707069Z",
     "iopub.status.busy": "2025-01-01T15:29:14.706770Z",
     "iopub.status.idle": "2025-01-01T15:29:14.733969Z",
     "shell.execute_reply": "2025-01-01T15:29:14.733302Z"
    },
    "papermill": {
     "duration": 0.062428,
     "end_time": "2025-01-01T15:29:14.735454",
     "exception": false,
     "start_time": "2025-01-01T15:29:14.673026",
     "status": "completed"
    },
    "tags": []
   },
   "outputs": [],
   "source": [
    "def feature_engineering(df):\n",
    "\n",
    "    season_cols = [col for col in df.columns if 'Season' in col]  \n",
    "    df = df.drop(season_cols, axis=1)  # Drop Season (too many missing values)\n",
    "    df['BMI_Age'] = df['Physical-BMI'] * df['Basic_Demos-Age']  # BMI and age interactions \n",
    "    df['Internet_Hours_Age'] = df['PreInt_EduHx-computerinternet_hoursday'] * df['Basic_Demos-Age']  # Internet hours and age interactions\n",
    "    df['BMI_Internet_Hours'] = df['Physical-BMI'] * df['PreInt_EduHx-computerinternet_hoursday']  # BMI and Internet hours interactions\n",
    "    df['BFP_BMI'] = df['BIA-BIA_Fat'] / df['BIA-BIA_BMI']  # Fat and BMI ratio\n",
    "    df['FFMI_BFP'] = df['BIA-BIA_FFMI'] / df['BIA-BIA_Fat']  # FFMI and Fat ratio\n",
    "    df['FMI_BFP'] = df['BIA-BIA_FMI'] / df['BIA-BIA_Fat']  # FMI and Fat ratio\n",
    "    df['LST_TBW'] = df['BIA-BIA_LST'] / df['BIA-BIA_TBW']  # LST and TBW ratio\n",
    "    df['BFP_BMR'] = df['BIA-BIA_Fat'] * df['BIA-BIA_BMR']  # Fat and BMR interactions\n",
    "    df['BFP_DEE'] = df['BIA-BIA_Fat'] * df['BIA-BIA_DEE']  # Fat and DEE interactions\n",
    "    df['BMR_Weight'] = df['BIA-BIA_BMR'] / df['Physical-Weight']  # BMR and Weight ratio\n",
    "    df['DEE_Weight'] = df['BIA-BIA_DEE'] / df['Physical-Weight']  # DEE and Weight ratio\n",
    "    df['SMM_Height'] = df['BIA-BIA_SMM'] / df['Physical-Height']  # SMM and Height ratio\n",
    "    df['Muscle_to_Fat'] = df['BIA-BIA_SMM'] / df['BIA-BIA_FMI']  # Muscle and Fat ratio\n",
    "    df['Hydration_Status'] = df['BIA-BIA_TBW'] / df['Physical-Weight']  #TBW and Weight ratio\n",
    "    df['ICW_TBW'] = df['BIA-BIA_ICW'] / df['BIA-BIA_TBW']  # ICW and TBW ratio\n",
    "    df['BMI_PHR'] = df['Physical-BMI'] * df['Physical-HeartRate']  # BMI and Heart rate interaction\n",
    "    return df\n",
    "\n",
    "train = feature_engineering(train)  \n",
    "train = train.dropna(thresh=10, axis=0)  # Keep rows with at least 10 non-missing values\n",
    "test = feature_engineering(test) "
   ]
  },
  {
   "cell_type": "code",
   "execution_count": 14,
   "id": "5f33cd5d",
   "metadata": {
    "execution": {
     "iopub.execute_input": "2025-01-01T15:29:14.801735Z",
     "iopub.status.busy": "2025-01-01T15:29:14.801456Z",
     "iopub.status.idle": "2025-01-01T15:29:14.810767Z",
     "shell.execute_reply": "2025-01-01T15:29:14.810060Z"
    },
    "papermill": {
     "duration": 0.043658,
     "end_time": "2025-01-01T15:29:14.812076",
     "exception": false,
     "start_time": "2025-01-01T15:29:14.768418",
     "status": "completed"
    },
    "tags": []
   },
   "outputs": [],
   "source": [
    "featuresCols = ['Basic_Demos-Age', 'Basic_Demos-Sex',\n",
    "                'CGAS-CGAS_Score', 'Physical-BMI',\n",
    "                'Physical-Height', 'Physical-Weight', 'Physical-Waist_Circumference',\n",
    "                'Physical-Diastolic_BP', 'Physical-HeartRate', 'Physical-Systolic_BP',\n",
    "                'Fitness_Endurance-Max_Stage',\n",
    "                'Fitness_Endurance-Time_Mins', 'Fitness_Endurance-Time_Sec',\n",
    "                'FGC-FGC_CU', 'FGC-FGC_CU_Zone', 'FGC-FGC_GSND',\n",
    "                'FGC-FGC_GSND_Zone', 'FGC-FGC_GSD', 'FGC-FGC_GSD_Zone', 'FGC-FGC_PU',\n",
    "                'FGC-FGC_PU_Zone', 'FGC-FGC_SRL', 'FGC-FGC_SRL_Zone', 'FGC-FGC_SRR',\n",
    "                'FGC-FGC_SRR_Zone', 'FGC-FGC_TL', 'FGC-FGC_TL_Zone',\n",
    "                'BIA-BIA_Activity_Level_num', 'BIA-BIA_BMC', 'BIA-BIA_BMI',\n",
    "                'BIA-BIA_BMR', 'BIA-BIA_DEE', 'BIA-BIA_ECW', 'BIA-BIA_FFM',\n",
    "                'BIA-BIA_FFMI', 'BIA-BIA_FMI', 'BIA-BIA_Fat', 'BIA-BIA_Frame_num',\n",
    "                'BIA-BIA_ICW', 'BIA-BIA_LDM', 'BIA-BIA_LST', 'BIA-BIA_SMM',\n",
    "                'BIA-BIA_TBW', 'PAQ_A-PAQ_A_Total',\n",
    "                'PAQ_C-PAQ_C_Total', 'SDS-SDS_Total_Raw',\n",
    "                'SDS-SDS_Total_T',\n",
    "                'PreInt_EduHx-computerinternet_hoursday', 'BMI_Age', 'Internet_Hours_Age', 'BMI_Internet_Hours',\n",
    "                'BFP_BMI', 'FFMI_BFP', 'FMI_BFP', 'LST_TBW', 'BFP_BMR', 'BFP_DEE', 'BMR_Weight', 'DEE_Weight', 'SMM_Height', 'Muscle_to_Fat', 'Hydration_Status', 'ICW_TBW', 'BMI_PHR',\n",
    "                ]\n",
    "\n",
    "train = train[featuresCols + time_series_cols + ['sii']]\n",
    "train = train.dropna(subset='sii') \n",
    "\n",
    "\n",
    "test = test[featuresCols + time_series_cols]"
   ]
  },
  {
   "cell_type": "code",
   "execution_count": 15,
   "id": "1c3192d2",
   "metadata": {
    "execution": {
     "iopub.execute_input": "2025-01-01T15:29:14.877874Z",
     "iopub.status.busy": "2025-01-01T15:29:14.877598Z",
     "iopub.status.idle": "2025-01-01T15:29:14.887045Z",
     "shell.execute_reply": "2025-01-01T15:29:14.886388Z"
    },
    "papermill": {
     "duration": 0.044146,
     "end_time": "2025-01-01T15:29:14.888509",
     "exception": false,
     "start_time": "2025-01-01T15:29:14.844363",
     "status": "completed"
    },
    "tags": []
   },
   "outputs": [],
   "source": [
    "if np.any(np.isinf(train)):\n",
    "    train = train.replace([np.inf, -np.inf], np.nan) "
   ]
  },
  {
   "cell_type": "markdown",
   "id": "b311fd0f",
   "metadata": {
    "papermill": {
     "duration": 0.034398,
     "end_time": "2025-01-01T15:29:14.957111",
     "exception": false,
     "start_time": "2025-01-01T15:29:14.922713",
     "status": "completed"
    },
    "tags": []
   },
   "source": [
    "### Training model"
   ]
  },
  {
   "cell_type": "code",
   "execution_count": 16,
   "id": "4514fd9d",
   "metadata": {
    "execution": {
     "iopub.execute_input": "2025-01-01T15:29:15.066031Z",
     "iopub.status.busy": "2025-01-01T15:29:15.065714Z",
     "iopub.status.idle": "2025-01-01T15:29:15.073359Z",
     "shell.execute_reply": "2025-01-01T15:29:15.072524Z"
    },
    "papermill": {
     "duration": 0.04206,
     "end_time": "2025-01-01T15:29:15.074631",
     "exception": false,
     "start_time": "2025-01-01T15:29:15.032571",
     "status": "completed"
    },
    "tags": []
   },
   "outputs": [],
   "source": [
    "def TrainML(model_class, test_data):\n",
    "    X = train.drop(['sii'], axis=1)  \n",
    "    y = train['sii']  \n",
    "\n",
    "    SKF = StratifiedKFold(n_splits=n_splits, shuffle=True, random_state=SEED)  \n",
    "    \n",
    "    train_S = []\n",
    "    test_S = []\n",
    "    \n",
    "    oof_non_rounded = np.zeros(len(y), dtype=float)  \n",
    "    oof_rounded = np.zeros(len(y), dtype=int) \n",
    "    test_preds = np.zeros((len(test_data), n_splits)) \n",
    "\n",
    "    for fold, (train_idx, test_idx) in enumerate(tqdm(SKF.split(X, y), desc=\"Training Folds\", total=n_splits)):\n",
    "        X_train, X_val = X.iloc[train_idx], X.iloc[test_idx]  \n",
    "        y_train, y_val = y.iloc[train_idx], y.iloc[test_idx]  \n",
    "\n",
    "        model = clone(model_class)  \n",
    "        model.fit(X_train, y_train) \n",
    "\n",
    "        y_train_pred = model.predict(X_train)  \n",
    "        y_val_pred = model.predict(X_val)  \n",
    "\n",
    "        oof_non_rounded[test_idx] = y_val_pred  \n",
    "        y_val_pred_rounded = y_val_pred.round(0).astype(int)  \n",
    "        oof_rounded[test_idx] = y_val_pred_rounded  \n",
    "\n",
    "        train_kappa = quadratic_weighted_kappa(y_train, y_train_pred.round(0).astype(int))  \n",
    "        val_kappa = quadratic_weighted_kappa(y_val, y_val_pred_rounded)  \n",
    "\n",
    "        train_S.append(train_kappa)  \n",
    "        test_S.append(val_kappa)  \n",
    "        \n",
    "        test_preds[:, fold] = model.predict(test_data)\n",
    "        \n",
    "        clear_output(wait=True) \n",
    "\n",
    "    # Maxmize Kappa score optimization\n",
    "    KappaOPtimizer = minimize(evaluate_predictions,\n",
    "                              x0=[0.5, 1.5, 2.5], args=(y, oof_non_rounded), \n",
    "                              method='Nelder-Mead')\n",
    "    assert KappaOPtimizer.success, \"Optimization did not converge.\"  \n",
    "    \n",
    "    oof_tuned = threshold_Rounder(oof_non_rounded, KappaOPtimizer.x)  \n",
    "    tKappa = quadratic_weighted_kappa(y, oof_tuned) \n",
    "\n",
    "    tpm = test_preds.mean(axis=1)  \n",
    "    tp_rounded = threshold_Rounder(tpm, KappaOPtimizer.x)  \n",
    "\n",
    "    return tp_rounded  "
   ]
  },
  {
   "cell_type": "code",
   "execution_count": 17,
   "id": "2f8d68aa",
   "metadata": {
    "execution": {
     "iopub.execute_input": "2025-01-01T15:29:15.140584Z",
     "iopub.status.busy": "2025-01-01T15:29:15.140266Z",
     "iopub.status.idle": "2025-01-01T15:32:12.170806Z",
     "shell.execute_reply": "2025-01-01T15:32:12.169857Z"
    },
    "papermill": {
     "duration": 177.065371,
     "end_time": "2025-01-01T15:32:12.172492",
     "exception": false,
     "start_time": "2025-01-01T15:29:15.107121",
     "status": "completed"
    },
    "tags": []
   },
   "outputs": [
    {
     "name": "stderr",
     "output_type": "stream",
     "text": [
      "Training Folds: 100%|██████████| 5/5 [00:59<00:00, 11.88s/it]\n"
     ]
    }
   ],
   "source": [
    "# Ensemble Model\n",
    "imputer = SimpleImputer(strategy='median')  \n",
    "\n",
    "ensemble = VotingRegressor(estimators=[\n",
    "    ('lgb', Pipeline(steps=[('imputer', imputer), ('regressor', LGBMRegressor(random_state=SEED))])),  # LightGBM\n",
    "    ('xgb', Pipeline(steps=[('imputer', imputer), ('regressor', XGBRegressor(random_state=SEED))])),  # XGBoost\n",
    "    ('cat', Pipeline(steps=[('imputer', imputer), ('regressor', CatBoostRegressor(random_state=SEED, silent=True))])),  # CatBoost\n",
    "    ('rf', Pipeline(steps=[('imputer', imputer), ('regressor', RandomForestRegressor(random_state=SEED))])),  # Random Forest\n",
    "    ('gb', Pipeline(steps=[('imputer', imputer), ('regressor', GradientBoostingRegressor(random_state=SEED))]))  # Gradient Boosting\n",
    "])\n",
    "\n",
    "Submission2 = TrainML(ensemble, test)  "
   ]
  },
  {
   "cell_type": "code",
   "execution_count": 18,
   "id": "9f90de79",
   "metadata": {
    "execution": {
     "iopub.execute_input": "2025-01-01T15:32:12.248388Z",
     "iopub.status.busy": "2025-01-01T15:32:12.247952Z",
     "iopub.status.idle": "2025-01-01T15:32:12.258275Z",
     "shell.execute_reply": "2025-01-01T15:32:12.257317Z"
    },
    "papermill": {
     "duration": 0.050096,
     "end_time": "2025-01-01T15:32:12.259945",
     "exception": false,
     "start_time": "2025-01-01T15:32:12.209849",
     "status": "completed"
    },
    "tags": []
   },
   "outputs": [
    {
     "data": {
      "text/html": [
       "<div>\n",
       "<style scoped>\n",
       "    .dataframe tbody tr th:only-of-type {\n",
       "        vertical-align: middle;\n",
       "    }\n",
       "\n",
       "    .dataframe tbody tr th {\n",
       "        vertical-align: top;\n",
       "    }\n",
       "\n",
       "    .dataframe thead th {\n",
       "        text-align: right;\n",
       "    }\n",
       "</style>\n",
       "<table border=\"1\" class=\"dataframe\">\n",
       "  <thead>\n",
       "    <tr style=\"text-align: right;\">\n",
       "      <th></th>\n",
       "      <th>id</th>\n",
       "      <th>sii</th>\n",
       "    </tr>\n",
       "  </thead>\n",
       "  <tbody>\n",
       "    <tr>\n",
       "      <th>0</th>\n",
       "      <td>00008ff9</td>\n",
       "      <td>2</td>\n",
       "    </tr>\n",
       "    <tr>\n",
       "      <th>1</th>\n",
       "      <td>000fd460</td>\n",
       "      <td>0</td>\n",
       "    </tr>\n",
       "    <tr>\n",
       "      <th>2</th>\n",
       "      <td>00105258</td>\n",
       "      <td>0</td>\n",
       "    </tr>\n",
       "    <tr>\n",
       "      <th>3</th>\n",
       "      <td>00115b9f</td>\n",
       "      <td>1</td>\n",
       "    </tr>\n",
       "    <tr>\n",
       "      <th>4</th>\n",
       "      <td>0016bb22</td>\n",
       "      <td>0</td>\n",
       "    </tr>\n",
       "    <tr>\n",
       "      <th>5</th>\n",
       "      <td>001f3379</td>\n",
       "      <td>1</td>\n",
       "    </tr>\n",
       "    <tr>\n",
       "      <th>6</th>\n",
       "      <td>0038ba98</td>\n",
       "      <td>0</td>\n",
       "    </tr>\n",
       "    <tr>\n",
       "      <th>7</th>\n",
       "      <td>0068a485</td>\n",
       "      <td>0</td>\n",
       "    </tr>\n",
       "    <tr>\n",
       "      <th>8</th>\n",
       "      <td>0069fbed</td>\n",
       "      <td>1</td>\n",
       "    </tr>\n",
       "    <tr>\n",
       "      <th>9</th>\n",
       "      <td>0083e397</td>\n",
       "      <td>0</td>\n",
       "    </tr>\n",
       "    <tr>\n",
       "      <th>10</th>\n",
       "      <td>0087dd65</td>\n",
       "      <td>0</td>\n",
       "    </tr>\n",
       "    <tr>\n",
       "      <th>11</th>\n",
       "      <td>00abe655</td>\n",
       "      <td>0</td>\n",
       "    </tr>\n",
       "    <tr>\n",
       "      <th>12</th>\n",
       "      <td>00ae59c9</td>\n",
       "      <td>1</td>\n",
       "    </tr>\n",
       "    <tr>\n",
       "      <th>13</th>\n",
       "      <td>00af6387</td>\n",
       "      <td>0</td>\n",
       "    </tr>\n",
       "    <tr>\n",
       "      <th>14</th>\n",
       "      <td>00bd4359</td>\n",
       "      <td>1</td>\n",
       "    </tr>\n",
       "    <tr>\n",
       "      <th>15</th>\n",
       "      <td>00c0cd71</td>\n",
       "      <td>1</td>\n",
       "    </tr>\n",
       "    <tr>\n",
       "      <th>16</th>\n",
       "      <td>00d56d4b</td>\n",
       "      <td>0</td>\n",
       "    </tr>\n",
       "    <tr>\n",
       "      <th>17</th>\n",
       "      <td>00d9913d</td>\n",
       "      <td>0</td>\n",
       "    </tr>\n",
       "    <tr>\n",
       "      <th>18</th>\n",
       "      <td>00e6167c</td>\n",
       "      <td>0</td>\n",
       "    </tr>\n",
       "    <tr>\n",
       "      <th>19</th>\n",
       "      <td>00ebc35d</td>\n",
       "      <td>0</td>\n",
       "    </tr>\n",
       "  </tbody>\n",
       "</table>\n",
       "</div>"
      ],
      "text/plain": [
       "          id  sii\n",
       "0   00008ff9    2\n",
       "1   000fd460    0\n",
       "2   00105258    0\n",
       "3   00115b9f    1\n",
       "4   0016bb22    0\n",
       "5   001f3379    1\n",
       "6   0038ba98    0\n",
       "7   0068a485    0\n",
       "8   0069fbed    1\n",
       "9   0083e397    0\n",
       "10  0087dd65    0\n",
       "11  00abe655    0\n",
       "12  00ae59c9    1\n",
       "13  00af6387    0\n",
       "14  00bd4359    1\n",
       "15  00c0cd71    1\n",
       "16  00d56d4b    0\n",
       "17  00d9913d    0\n",
       "18  00e6167c    0\n",
       "19  00ebc35d    0"
      ]
     },
     "execution_count": 18,
     "metadata": {},
     "output_type": "execute_result"
    }
   ],
   "source": [
    "Submission2 = pd.DataFrame({\n",
    "    'id': sample['id'],\n",
    "    'sii': Submission2\n",
    "})  \n",
    "\n",
    "Submission2"
   ]
  },
  {
   "cell_type": "code",
   "execution_count": 19,
   "id": "9b523b1b",
   "metadata": {},
   "outputs": [],
   "source": [
    "sub1 = Submission1  \n",
    "sub2 = Submission2  \n",
    "sub1 = sub1.sort_values(by='id').reset_index(drop=True)  \n",
    "sub2 = sub2.sort_values(by='id').reset_index(drop=True)  \n",
    "\n",
    "combined = pd.DataFrame({\n",
    "    'id': sub1['id'],\n",
    "    'sii_1': sub1['sii'],\n",
    "    'sii_2': sub2['sii']\n",
    "})  \n",
    "\n",
    "def majority_vote(row):\n",
    "    \"\"\"\n",
    "    For each row of predictions, perform majority voting. \n",
    "    If there are multiple modes, take their average and round to the nearest integer.\n",
    "\n",
    "    Parameters:\n",
    "    - row: A row of prediction values\n",
    "\n",
    "    Returns:\n",
    "    - The final predicted 'sii' value\n",
    "    \"\"\"\n",
    "    return row.mode()[0] if len(row.mode()) == 1 else row.mean().round().astype(int)\n",
    "\n",
    "combined['final_sii'] = combined[['sii_1', 'sii_2']].apply(majority_vote, axis=1)  \n",
    "\n",
    "final_submission = combined[['id', 'final_sii']].rename(columns={'final_sii': 'sii'})  \n",
    "final_submission.to_csv('submission.csv', index=False)  "
   ]
  }
 ],
 "metadata": {
  "kaggle": {
   "accelerator": "none",
   "dataSources": [
    {
     "databundleVersionId": 9643020,
     "sourceId": 81933,
     "sourceType": "competition"
    }
   ],
   "isGpuEnabled": false,
   "isInternetEnabled": false,
   "language": "python",
   "sourceType": "notebook"
  },
  "kernelspec": {
   "display_name": "CMI-PIU",
   "language": "python",
   "name": "python3"
  },
  "language_info": {
   "codemirror_mode": {
    "name": "ipython",
    "version": 3
   },
   "file_extension": ".py",
   "mimetype": "text/x-python",
   "name": "python",
   "nbconvert_exporter": "python",
   "pygments_lexer": "ipython3",
   "version": "3.8.20"
  },
  "papermill": {
   "default_parameters": {},
   "duration": 399.490884,
   "end_time": "2025-01-01T15:32:13.524661",
   "environment_variables": {},
   "exception": null,
   "input_path": "__notebook__.ipynb",
   "output_path": "__notebook__.ipynb",
   "parameters": {},
   "start_time": "2025-01-01T15:25:34.033777",
   "version": "2.6.0"
  }
 },
 "nbformat": 4,
 "nbformat_minor": 5
}
